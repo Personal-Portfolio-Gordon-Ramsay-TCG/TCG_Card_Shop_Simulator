{
  "nbformat": 4,
  "nbformat_minor": 0,
  "metadata": {
    "colab": {
      "provenance": []
    },
    "kernelspec": {
      "name": "python3",
      "display_name": "Python 3"
    },
    "language_info": {
      "name": "python"
    }
  },
  "cells": [
    {
      "cell_type": "markdown",
      "source": [
        "# Aggregating TCG Card Shop Simulator Data"
      ],
      "metadata": {
        "id": "mNx5hLJpU1ea"
      }
    },
    {
      "cell_type": "markdown",
      "source": [
        "In order to analyze the card shop simulator data I collected, we need to aggregate the 8 different CSV files to create 1 large CSV file containing all of the data.\n",
        "\n",
        "We will start off by reading in the CSV files from Github."
      ],
      "metadata": {
        "id": "IXDhfpM0UeNe"
      }
    },
    {
      "cell_type": "code",
      "source": [
        "import pandas as pd\n",
        "import numpy as np"
      ],
      "metadata": {
        "id": "30S7IFrrSyFs"
      },
      "execution_count": 1,
      "outputs": []
    },
    {
      "cell_type": "code",
      "source": [
        "tetramon_basic_link = \"https://github.com/Personal-Portfolio-Gordon-Ramsay-TCG/TCG_Card_Shop_Simulator/raw/refs/heads/main/TCG%20Card%20Shop%20Data/TCG%20Card%20Shop%20Simulator%20Data%20-%20Tetramon%20Basic.csv\"\n",
        "tetramon_rare_link = \"https://github.com/Personal-Portfolio-Gordon-Ramsay-TCG/TCG_Card_Shop_Simulator/raw/refs/heads/main/TCG%20Card%20Shop%20Data/TCG%20Card%20Shop%20Simulator%20Data%20-%20Tetramon%20Rare.csv\"\n",
        "tetramon_epic_link = \"https://github.com/Personal-Portfolio-Gordon-Ramsay-TCG/TCG_Card_Shop_Simulator/raw/refs/heads/main/TCG%20Card%20Shop%20Data/TCG%20Card%20Shop%20Simulator%20Data%20-%20Tetramon%20Epic.csv\"\n",
        "tetramon_legendary_link = \"https://github.com/Personal-Portfolio-Gordon-Ramsay-TCG/TCG_Card_Shop_Simulator/raw/refs/heads/main/TCG%20Card%20Shop%20Data/TCG%20Card%20Shop%20Simulator%20Data%20-%20Tetramon%20Legendary.csv\"\n",
        "destiny_basic_link = \"https://github.com/Personal-Portfolio-Gordon-Ramsay-TCG/TCG_Card_Shop_Simulator/raw/refs/heads/main/TCG%20Card%20Shop%20Data/TCG%20Card%20Shop%20Simulator%20Data%20-%20Destiny%20Basic.csv\"\n",
        "destiny_rare_link = \"https://github.com/Personal-Portfolio-Gordon-Ramsay-TCG/TCG_Card_Shop_Simulator/raw/refs/heads/main/TCG%20Card%20Shop%20Data/TCG%20Card%20Shop%20Simulator%20Data%20-%20Destiny%20Rare.csv\"\n",
        "destiny_epic_link = \"https://github.com/Personal-Portfolio-Gordon-Ramsay-TCG/TCG_Card_Shop_Simulator/raw/refs/heads/main/TCG%20Card%20Shop%20Data/TCG%20Card%20Shop%20Simulator%20Data%20-%20Destiny%20Epic.csv\"\n",
        "destiny_legendary_link = \"https://github.com/Personal-Portfolio-Gordon-Ramsay-TCG/TCG_Card_Shop_Simulator/raw/refs/heads/main/TCG%20Card%20Shop%20Data/TCG%20Card%20Shop%20Simulator%20Data%20-%20Destiny%20Legendary.csv\""
      ],
      "metadata": {
        "id": "9bCce06gVQBe"
      },
      "execution_count": 2,
      "outputs": []
    },
    {
      "cell_type": "code",
      "source": [
        "tetramon_basic = pd.read_csv(tetramon_basic_link)\n",
        "tetramon_rare = pd.read_csv(tetramon_rare_link)\n",
        "tetramon_epic = pd.read_csv(tetramon_epic_link)\n",
        "tetramon_legendary = pd.read_csv(tetramon_legendary_link)\n",
        "destiny_basic = pd.read_csv(destiny_basic_link)\n",
        "destiny_rare = pd.read_csv(destiny_rare_link)\n",
        "destiny_epic = pd.read_csv(destiny_epic_link)\n",
        "destiny_legendary = pd.read_csv(destiny_legendary_link)\n",
        "\n",
        "tetramon_basic.shape, tetramon_rare.shape, tetramon_epic.shape, tetramon_legendary.shape, destiny_basic.shape, destiny_rare.shape, destiny_epic.shape, destiny_legendary.shape"
      ],
      "metadata": {
        "colab": {
          "base_uri": "https://localhost:8080/"
        },
        "id": "-BYtL3SGWKcp",
        "outputId": "fe24be2b-87b4-4f75-a0bb-0b03f5089c6e"
      },
      "execution_count": 6,
      "outputs": [
        {
          "output_type": "execute_result",
          "data": {
            "text/plain": [
              "((210, 14),\n",
              " (210, 14),\n",
              " (210, 14),\n",
              " (210, 14),\n",
              " (210, 14),\n",
              " (210, 14),\n",
              " (210, 14),\n",
              " (210, 14))"
            ]
          },
          "metadata": {},
          "execution_count": 6
        }
      ]
    },
    {
      "cell_type": "markdown",
      "source": [
        "Now that every CSV file has been read in, let's concatenate them."
      ],
      "metadata": {
        "id": "DEZO8c9-Wkae"
      }
    },
    {
      "cell_type": "code",
      "source": [
        "tcg_data = pd.concat([tetramon_basic, tetramon_rare, tetramon_epic, tetramon_legendary, destiny_basic, destiny_rare, destiny_epic, destiny_legendary])\n",
        "\n",
        "tcg_data.shape"
      ],
      "metadata": {
        "colab": {
          "base_uri": "https://localhost:8080/"
        },
        "id": "cw1KOy_4Wb8C",
        "outputId": "59bc1e95-b237-4d9d-ac2e-24bee20e5941"
      },
      "execution_count": 7,
      "outputs": [
        {
          "output_type": "execute_result",
          "data": {
            "text/plain": [
              "(1680, 15)"
            ]
          },
          "metadata": {},
          "execution_count": 7
        }
      ]
    },
    {
      "cell_type": "markdown",
      "source": [
        "As we can see, the concatenation has been successful and now we can start analyzing and finding trends in the data."
      ],
      "metadata": {
        "id": "QCGJcmdoXpY2"
      }
    }
  ]
}