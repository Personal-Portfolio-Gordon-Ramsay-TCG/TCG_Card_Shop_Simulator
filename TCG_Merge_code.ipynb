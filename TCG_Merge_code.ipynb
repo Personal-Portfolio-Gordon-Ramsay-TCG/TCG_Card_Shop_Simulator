{
  "nbformat": 4,
  "nbformat_minor": 0,
  "metadata": {
    "colab": {
      "provenance": []
    },
    "kernelspec": {
      "name": "python3",
      "display_name": "Python 3"
    },
    "language_info": {
      "name": "python"
    }
  },
  "cells": [
    {
      "cell_type": "markdown",
      "source": [
        "# Aggregating TCG Card Shop Simulator Data"
      ],
      "metadata": {
        "id": "mNx5hLJpU1ea"
      }
    },
    {
      "cell_type": "markdown",
      "source": [
        "In order to analyze the card shop simulator data I collected, we need to merge the 8 different CSV files to create 1 large CSV file containing all of the data.\n",
        "\n",
        "We will start off by reading in the CSV files from Github."
      ],
      "metadata": {
        "id": "IXDhfpM0UeNe"
      }
    },
    {
      "cell_type": "code",
      "source": [
        "import pandas as pd\n",
        "import numpy as np"
      ],
      "metadata": {
        "id": "30S7IFrrSyFs"
      },
      "execution_count": null,
      "outputs": []
    },
    {
      "cell_type": "code",
      "source": [
        "tetramon_basic_link = \"https://github.com/Personal-Portfolio-Gordon-Ramsay-TCG/TCG_Card_Shop_Simulator/raw/refs/heads/main/TCG%20Card%20Shop%20Data/TCG%20Card%20Shop%20Simulator%20Data%20-%20Tetramon%20Basic.csv\"\n",
        "tetramon_rare_link = \"https://github.com/Personal-Portfolio-Gordon-Ramsay-TCG/TCG_Card_Shop_Simulator/raw/refs/heads/main/TCG%20Card%20Shop%20Data/TCG%20Card%20Shop%20Simulator%20Data%20-%20Tetramon%20Rare.csv\"\n",
        "tetramon_epic_link = \"https://github.com/Personal-Portfolio-Gordon-Ramsay-TCG/TCG_Card_Shop_Simulator/raw/refs/heads/main/TCG%20Card%20Shop%20Data/TCG%20Card%20Shop%20Simulator%20Data%20-%20Tetramon%20Epic.csv\"\n",
        "tetramon_legendary_link = \"https://github.com/Personal-Portfolio-Gordon-Ramsay-TCG/TCG_Card_Shop_Simulator/raw/refs/heads/main/TCG%20Card%20Shop%20Data/TCG%20Card%20Shop%20Simulator%20Data%20-%20Tetramon%20Legendary.csv\"\n",
        "destiny_basic_link = \"https://github.com/Personal-Portfolio-Gordon-Ramsay-TCG/TCG_Card_Shop_Simulator/raw/refs/heads/main/TCG%20Card%20Shop%20Data/TCG%20Card%20Shop%20Simulator%20Data%20-%20Destiny%20Basic.csv\"\n",
        "destiny_rare_link = \"https://github.com/Personal-Portfolio-Gordon-Ramsay-TCG/TCG_Card_Shop_Simulator/raw/refs/heads/main/TCG%20Card%20Shop%20Data/TCG%20Card%20Shop%20Simulator%20Data%20-%20Destiny%20Rare.csv\"\n",
        "destiny_epic_link = \"https://github.com/Personal-Portfolio-Gordon-Ramsay-TCG/TCG_Card_Shop_Simulator/raw/refs/heads/main/TCG%20Card%20Shop%20Data/TCG%20Card%20Shop%20Simulator%20Data%20-%20Destiny%20Epic.csv\"\n",
        "destiny_legendary_link = \"https://github.com/Personal-Portfolio-Gordon-Ramsay-TCG/TCG_Card_Shop_Simulator/raw/refs/heads/main/TCG%20Card%20Shop%20Data/TCG%20Card%20Shop%20Simulator%20Data%20-%20Destiny%20Legendary.csv\""
      ],
      "metadata": {
        "id": "9bCce06gVQBe"
      },
      "execution_count": null,
      "outputs": []
    },
    {
      "cell_type": "code",
      "source": [
        "tetramon_basic = pd.read_csv(tetramon_basic_link)\n",
        "tetramon_rare = pd.read_csv(tetramon_rare_link)\n",
        "tetramon_epic = pd.read_csv(tetramon_epic_link)\n",
        "tetramon_legendary = pd.read_csv(tetramon_legendary_link)\n",
        "destiny_basic = pd.read_csv(destiny_basic_link)\n",
        "destiny_rare = pd.read_csv(destiny_rare_link)\n",
        "destiny_epic = pd.read_csv(destiny_epic_link)\n",
        "destiny_legendary = pd.read_csv(destiny_legendary_link)\n",
        "\n",
        "tetramon_basic.shape, tetramon_rare.shape, tetramon_epic.shape, tetramon_legendary.shape, destiny_basic.shape, destiny_rare.shape, destiny_epic.shape, destiny_legendary.shape"
      ],
      "metadata": {
        "colab": {
          "base_uri": "https://localhost:8080/"
        },
        "id": "-BYtL3SGWKcp",
        "outputId": "fe24be2b-87b4-4f75-a0bb-0b03f5089c6e"
      },
      "execution_count": null,
      "outputs": [
        {
          "output_type": "execute_result",
          "data": {
            "text/plain": [
              "((210, 14),\n",
              " (210, 14),\n",
              " (210, 14),\n",
              " (210, 14),\n",
              " (210, 14),\n",
              " (210, 14),\n",
              " (210, 14),\n",
              " (210, 14))"
            ]
          },
          "metadata": {},
          "execution_count": 6
        }
      ]
    },
    {
      "cell_type": "markdown",
      "source": [
        "Now that every CSV file has been read in, let's concatenate them."
      ],
      "metadata": {
        "id": "DEZO8c9-Wkae"
      }
    },
    {
      "cell_type": "code",
      "source": [
        "tcg_data = pd.concat([tetramon_basic, tetramon_rare, tetramon_epic, tetramon_legendary, destiny_basic, destiny_rare, destiny_epic, destiny_legendary])\n",
        "\n",
        "tcg_data.shape"
      ],
      "metadata": {
        "colab": {
          "base_uri": "https://localhost:8080/"
        },
        "id": "cw1KOy_4Wb8C",
        "outputId": "59bc1e95-b237-4d9d-ac2e-24bee20e5941"
      },
      "execution_count": null,
      "outputs": [
        {
          "output_type": "execute_result",
          "data": {
            "text/plain": [
              "(1680, 15)"
            ]
          },
          "metadata": {},
          "execution_count": 7
        }
      ]
    },
    {
      "cell_type": "code",
      "source": [
        "tcg_data.columns"
      ],
      "metadata": {
        "colab": {
          "base_uri": "https://localhost:8080/"
        },
        "id": "NAQcxDlQdeBc",
        "outputId": "cfd363e8-4fea-49a1-aadb-211b6936e56f"
      },
      "execution_count": 9,
      "outputs": [
        {
          "output_type": "execute_result",
          "data": {
            "text/plain": [
              "Index(['Unnamed: 0', 'Card Pack Type', 'Card Name', 'Card Rarity', 'Card No.',\n",
              "       'Card Value ($)', 'Pack Number', 'Foil', 'Gold Edition',\n",
              "       'Silver Edition', 'First Edition', 'EX Cards', 'Full Art', 'Normal',\n",
              "       'Full Art '],\n",
              "      dtype='object')"
            ]
          },
          "metadata": {},
          "execution_count": 9
        }
      ]
    },
    {
      "cell_type": "markdown",
      "source": [
        "There are two columns that should not be there so we will remove those. We will also rename the columns so they are easier to work with during the coding process."
      ],
      "metadata": {
        "id": "MVX8TXL_dgmm"
      }
    },
    {
      "cell_type": "code",
      "source": [
        "tcg_data.drop('Full Art ', axis=1, inplace=True)\n",
        "tcg_data.drop('Unnamed: 0', axis=1, inplace=True)\n",
        "\n",
        "tcg_data.columns"
      ],
      "metadata": {
        "colab": {
          "base_uri": "https://localhost:8080/"
        },
        "id": "FAkBrdD1dm5U",
        "outputId": "3ed3c642-9f1d-41af-fb5a-8fc981958a0a"
      },
      "execution_count": 10,
      "outputs": [
        {
          "output_type": "execute_result",
          "data": {
            "text/plain": [
              "Index(['Card Pack Type', 'Card Name', 'Card Rarity', 'Card No.',\n",
              "       'Card Value ($)', 'Pack Number', 'Foil', 'Gold Edition',\n",
              "       'Silver Edition', 'First Edition', 'EX Cards', 'Full Art', 'Normal'],\n",
              "      dtype='object')"
            ]
          },
          "metadata": {},
          "execution_count": 10
        }
      ]
    },
    {
      "cell_type": "code",
      "source": [
        "tcg_data.columns = ['pack_type', 'card_name', 'pack_rarity', 'card_number', 'card_value', 'pack_number', 'foil', 'gold_edition', 'silver_edition', 'first_edition', 'ex_cards', 'full_art', 'normal']\n",
        "\n",
        "tcg_data.columns"
      ],
      "metadata": {
        "colab": {
          "base_uri": "https://localhost:8080/"
        },
        "id": "-KhZArHjduse",
        "outputId": "28ca4761-f378-4401-def4-6f7d10783483"
      },
      "execution_count": 11,
      "outputs": [
        {
          "output_type": "execute_result",
          "data": {
            "text/plain": [
              "Index(['pack_type', 'card_name', 'pack_rarity', 'card_number', 'card_value',\n",
              "       'pack_number', 'foil', 'gold_edition', 'silver_edition',\n",
              "       'first_edition', 'ex_cards', 'full_art', 'normal'],\n",
              "      dtype='object')"
            ]
          },
          "metadata": {},
          "execution_count": 11
        }
      ]
    },
    {
      "cell_type": "markdown",
      "source": [
        "Next, we need to make sure that under pack type, the only possible options are 'tetramon' and 'destiny'."
      ],
      "metadata": {
        "id": "mKh8bFDweSvT"
      }
    },
    {
      "cell_type": "code",
      "source": [
        "tcg_data['pack_type'].unique()\n",
        "\n",
        "tcg_data.loc[tcg_data[\"pack_type\"] == \"Tetramon Basic\", \"pack_type\"] = \"tetramon\"\n",
        "tcg_data.loc[tcg_data[\"pack_type\"] == \"Tetramon Rare\", \"pack_type\"] = \"tetramon\"\n",
        "tcg_data.loc[tcg_data[\"pack_type\"] == \"Tetramon Epic\", \"pack_type\"] = \"tetramon\"\n",
        "tcg_data.loc[tcg_data[\"pack_type\"] == \"Tetramon Legendary\", \"pack_type\"] = \"tetramon\"\n",
        "tcg_data.loc[tcg_data[\"pack_type\"] == \"Destiny Basic\", \"pack_type\"] = \"destiny\"\n",
        "tcg_data.loc[tcg_data[\"pack_type\"] == \"Destiny Rare\", \"pack_type\"] = \"destiny\"\n",
        "tcg_data.loc[tcg_data[\"pack_type\"] == \"Destiny Epic\", \"pack_type\"] = \"destiny\"\n",
        "tcg_data.loc[tcg_data[\"pack_type\"] == \"Destiny Legendary\", \"pack_type\"] = \"destiny\"\n",
        "\n",
        "tcg_data['pack_type'].unique()"
      ],
      "metadata": {
        "colab": {
          "base_uri": "https://localhost:8080/"
        },
        "id": "0EX4L0xseiNw",
        "outputId": "5acb4485-1f84-4ff4-c97f-451f78c1d859"
      },
      "execution_count": 16,
      "outputs": [
        {
          "output_type": "execute_result",
          "data": {
            "text/plain": [
              "array(['Tetramon', 'Destiny'], dtype=object)"
            ]
          },
          "metadata": {},
          "execution_count": 16
        }
      ]
    },
    {
      "cell_type": "markdown",
      "source": [
        "Finally, we will make sure that everything in the data set is lower-case so that data exploration will be easier."
      ],
      "metadata": {
        "id": "NlruIRgGfjzi"
      }
    },
    {
      "cell_type": "code",
      "source": [
        "tcg_data.head()\n",
        "\n",
        "tcg_data['pack_type'] = tcg_data['pack_type'].str.lower()\n",
        "tcg_data['card_name'] = tcg_data['card_name'].str.lower()\n",
        "tcg_data['pack_rarity'] = tcg_data['pack_rarity'].str.lower()\n",
        "tcg_data['foil'] = tcg_data['foil'].str.lower()\n",
        "tcg_data['gold_edition'] = tcg_data['gold_edition'].str.lower()\n",
        "tcg_data['silver_edition'] = tcg_data['silver_edition'].str.lower()\n",
        "tcg_data['first_edition'] = tcg_data['first_edition'].str.lower()\n",
        "tcg_data['ex_cards'] = tcg_data['ex_cards'].str.lower()\n",
        "tcg_data['full_art'] = tcg_data['full_art'].str.lower()\n",
        "tcg_data['normal'] = tcg_data['normal'].str.lower()\n",
        "\n",
        "tcg_data.head()"
      ],
      "metadata": {
        "colab": {
          "base_uri": "https://localhost:8080/",
          "height": 206
        },
        "id": "zw6RIAnafrQN",
        "outputId": "6a084be5-4289-4377-b08d-c9b2c3e74c22"
      },
      "execution_count": 17,
      "outputs": [
        {
          "output_type": "execute_result",
          "data": {
            "text/plain": [
              "  pack_type card_name pack_rarity  card_number  card_value  pack_number foil  \\\n",
              "0  tetramon   kidsune      common         49.0        0.25            1   no   \n",
              "1  tetramon  nanomite      common         97.0        0.11            1   no   \n",
              "2  tetramon     nocti      common        337.0        0.07            1   no   \n",
              "3  tetramon     flami      common        517.0        0.24            1   no   \n",
              "4  tetramon   seedant      common       1117.0        0.06            1   no   \n",
              "\n",
              "  gold_edition silver_edition first_edition ex_cards full_art normal  \n",
              "0           no             no            no       no       no    yes  \n",
              "1           no             no            no       no       no    yes  \n",
              "2           no             no            no       no       no    yes  \n",
              "3           no             no            no       no       no    yes  \n",
              "4           no             no            no       no       no    yes  "
            ],
            "text/html": [
              "\n",
              "  <div id=\"df-d09be9e7-bf3b-40be-b7f5-562c885fa72c\" class=\"colab-df-container\">\n",
              "    <div>\n",
              "<style scoped>\n",
              "    .dataframe tbody tr th:only-of-type {\n",
              "        vertical-align: middle;\n",
              "    }\n",
              "\n",
              "    .dataframe tbody tr th {\n",
              "        vertical-align: top;\n",
              "    }\n",
              "\n",
              "    .dataframe thead th {\n",
              "        text-align: right;\n",
              "    }\n",
              "</style>\n",
              "<table border=\"1\" class=\"dataframe\">\n",
              "  <thead>\n",
              "    <tr style=\"text-align: right;\">\n",
              "      <th></th>\n",
              "      <th>pack_type</th>\n",
              "      <th>card_name</th>\n",
              "      <th>pack_rarity</th>\n",
              "      <th>card_number</th>\n",
              "      <th>card_value</th>\n",
              "      <th>pack_number</th>\n",
              "      <th>foil</th>\n",
              "      <th>gold_edition</th>\n",
              "      <th>silver_edition</th>\n",
              "      <th>first_edition</th>\n",
              "      <th>ex_cards</th>\n",
              "      <th>full_art</th>\n",
              "      <th>normal</th>\n",
              "    </tr>\n",
              "  </thead>\n",
              "  <tbody>\n",
              "    <tr>\n",
              "      <th>0</th>\n",
              "      <td>tetramon</td>\n",
              "      <td>kidsune</td>\n",
              "      <td>common</td>\n",
              "      <td>49.0</td>\n",
              "      <td>0.25</td>\n",
              "      <td>1</td>\n",
              "      <td>no</td>\n",
              "      <td>no</td>\n",
              "      <td>no</td>\n",
              "      <td>no</td>\n",
              "      <td>no</td>\n",
              "      <td>no</td>\n",
              "      <td>yes</td>\n",
              "    </tr>\n",
              "    <tr>\n",
              "      <th>1</th>\n",
              "      <td>tetramon</td>\n",
              "      <td>nanomite</td>\n",
              "      <td>common</td>\n",
              "      <td>97.0</td>\n",
              "      <td>0.11</td>\n",
              "      <td>1</td>\n",
              "      <td>no</td>\n",
              "      <td>no</td>\n",
              "      <td>no</td>\n",
              "      <td>no</td>\n",
              "      <td>no</td>\n",
              "      <td>no</td>\n",
              "      <td>yes</td>\n",
              "    </tr>\n",
              "    <tr>\n",
              "      <th>2</th>\n",
              "      <td>tetramon</td>\n",
              "      <td>nocti</td>\n",
              "      <td>common</td>\n",
              "      <td>337.0</td>\n",
              "      <td>0.07</td>\n",
              "      <td>1</td>\n",
              "      <td>no</td>\n",
              "      <td>no</td>\n",
              "      <td>no</td>\n",
              "      <td>no</td>\n",
              "      <td>no</td>\n",
              "      <td>no</td>\n",
              "      <td>yes</td>\n",
              "    </tr>\n",
              "    <tr>\n",
              "      <th>3</th>\n",
              "      <td>tetramon</td>\n",
              "      <td>flami</td>\n",
              "      <td>common</td>\n",
              "      <td>517.0</td>\n",
              "      <td>0.24</td>\n",
              "      <td>1</td>\n",
              "      <td>no</td>\n",
              "      <td>no</td>\n",
              "      <td>no</td>\n",
              "      <td>no</td>\n",
              "      <td>no</td>\n",
              "      <td>no</td>\n",
              "      <td>yes</td>\n",
              "    </tr>\n",
              "    <tr>\n",
              "      <th>4</th>\n",
              "      <td>tetramon</td>\n",
              "      <td>seedant</td>\n",
              "      <td>common</td>\n",
              "      <td>1117.0</td>\n",
              "      <td>0.06</td>\n",
              "      <td>1</td>\n",
              "      <td>no</td>\n",
              "      <td>no</td>\n",
              "      <td>no</td>\n",
              "      <td>no</td>\n",
              "      <td>no</td>\n",
              "      <td>no</td>\n",
              "      <td>yes</td>\n",
              "    </tr>\n",
              "  </tbody>\n",
              "</table>\n",
              "</div>\n",
              "    <div class=\"colab-df-buttons\">\n",
              "\n",
              "  <div class=\"colab-df-container\">\n",
              "    <button class=\"colab-df-convert\" onclick=\"convertToInteractive('df-d09be9e7-bf3b-40be-b7f5-562c885fa72c')\"\n",
              "            title=\"Convert this dataframe to an interactive table.\"\n",
              "            style=\"display:none;\">\n",
              "\n",
              "  <svg xmlns=\"http://www.w3.org/2000/svg\" height=\"24px\" viewBox=\"0 -960 960 960\">\n",
              "    <path d=\"M120-120v-720h720v720H120Zm60-500h600v-160H180v160Zm220 220h160v-160H400v160Zm0 220h160v-160H400v160ZM180-400h160v-160H180v160Zm440 0h160v-160H620v160ZM180-180h160v-160H180v160Zm440 0h160v-160H620v160Z\"/>\n",
              "  </svg>\n",
              "    </button>\n",
              "\n",
              "  <style>\n",
              "    .colab-df-container {\n",
              "      display:flex;\n",
              "      gap: 12px;\n",
              "    }\n",
              "\n",
              "    .colab-df-convert {\n",
              "      background-color: #E8F0FE;\n",
              "      border: none;\n",
              "      border-radius: 50%;\n",
              "      cursor: pointer;\n",
              "      display: none;\n",
              "      fill: #1967D2;\n",
              "      height: 32px;\n",
              "      padding: 0 0 0 0;\n",
              "      width: 32px;\n",
              "    }\n",
              "\n",
              "    .colab-df-convert:hover {\n",
              "      background-color: #E2EBFA;\n",
              "      box-shadow: 0px 1px 2px rgba(60, 64, 67, 0.3), 0px 1px 3px 1px rgba(60, 64, 67, 0.15);\n",
              "      fill: #174EA6;\n",
              "    }\n",
              "\n",
              "    .colab-df-buttons div {\n",
              "      margin-bottom: 4px;\n",
              "    }\n",
              "\n",
              "    [theme=dark] .colab-df-convert {\n",
              "      background-color: #3B4455;\n",
              "      fill: #D2E3FC;\n",
              "    }\n",
              "\n",
              "    [theme=dark] .colab-df-convert:hover {\n",
              "      background-color: #434B5C;\n",
              "      box-shadow: 0px 1px 3px 1px rgba(0, 0, 0, 0.15);\n",
              "      filter: drop-shadow(0px 1px 2px rgba(0, 0, 0, 0.3));\n",
              "      fill: #FFFFFF;\n",
              "    }\n",
              "  </style>\n",
              "\n",
              "    <script>\n",
              "      const buttonEl =\n",
              "        document.querySelector('#df-d09be9e7-bf3b-40be-b7f5-562c885fa72c button.colab-df-convert');\n",
              "      buttonEl.style.display =\n",
              "        google.colab.kernel.accessAllowed ? 'block' : 'none';\n",
              "\n",
              "      async function convertToInteractive(key) {\n",
              "        const element = document.querySelector('#df-d09be9e7-bf3b-40be-b7f5-562c885fa72c');\n",
              "        const dataTable =\n",
              "          await google.colab.kernel.invokeFunction('convertToInteractive',\n",
              "                                                    [key], {});\n",
              "        if (!dataTable) return;\n",
              "\n",
              "        const docLinkHtml = 'Like what you see? Visit the ' +\n",
              "          '<a target=\"_blank\" href=https://colab.research.google.com/notebooks/data_table.ipynb>data table notebook</a>'\n",
              "          + ' to learn more about interactive tables.';\n",
              "        element.innerHTML = '';\n",
              "        dataTable['output_type'] = 'display_data';\n",
              "        await google.colab.output.renderOutput(dataTable, element);\n",
              "        const docLink = document.createElement('div');\n",
              "        docLink.innerHTML = docLinkHtml;\n",
              "        element.appendChild(docLink);\n",
              "      }\n",
              "    </script>\n",
              "  </div>\n",
              "\n",
              "\n",
              "<div id=\"df-1dd21510-9718-482e-a8bb-07b43ef3ba60\">\n",
              "  <button class=\"colab-df-quickchart\" onclick=\"quickchart('df-1dd21510-9718-482e-a8bb-07b43ef3ba60')\"\n",
              "            title=\"Suggest charts\"\n",
              "            style=\"display:none;\">\n",
              "\n",
              "<svg xmlns=\"http://www.w3.org/2000/svg\" height=\"24px\"viewBox=\"0 0 24 24\"\n",
              "     width=\"24px\">\n",
              "    <g>\n",
              "        <path d=\"M19 3H5c-1.1 0-2 .9-2 2v14c0 1.1.9 2 2 2h14c1.1 0 2-.9 2-2V5c0-1.1-.9-2-2-2zM9 17H7v-7h2v7zm4 0h-2V7h2v10zm4 0h-2v-4h2v4z\"/>\n",
              "    </g>\n",
              "</svg>\n",
              "  </button>\n",
              "\n",
              "<style>\n",
              "  .colab-df-quickchart {\n",
              "      --bg-color: #E8F0FE;\n",
              "      --fill-color: #1967D2;\n",
              "      --hover-bg-color: #E2EBFA;\n",
              "      --hover-fill-color: #174EA6;\n",
              "      --disabled-fill-color: #AAA;\n",
              "      --disabled-bg-color: #DDD;\n",
              "  }\n",
              "\n",
              "  [theme=dark] .colab-df-quickchart {\n",
              "      --bg-color: #3B4455;\n",
              "      --fill-color: #D2E3FC;\n",
              "      --hover-bg-color: #434B5C;\n",
              "      --hover-fill-color: #FFFFFF;\n",
              "      --disabled-bg-color: #3B4455;\n",
              "      --disabled-fill-color: #666;\n",
              "  }\n",
              "\n",
              "  .colab-df-quickchart {\n",
              "    background-color: var(--bg-color);\n",
              "    border: none;\n",
              "    border-radius: 50%;\n",
              "    cursor: pointer;\n",
              "    display: none;\n",
              "    fill: var(--fill-color);\n",
              "    height: 32px;\n",
              "    padding: 0;\n",
              "    width: 32px;\n",
              "  }\n",
              "\n",
              "  .colab-df-quickchart:hover {\n",
              "    background-color: var(--hover-bg-color);\n",
              "    box-shadow: 0 1px 2px rgba(60, 64, 67, 0.3), 0 1px 3px 1px rgba(60, 64, 67, 0.15);\n",
              "    fill: var(--button-hover-fill-color);\n",
              "  }\n",
              "\n",
              "  .colab-df-quickchart-complete:disabled,\n",
              "  .colab-df-quickchart-complete:disabled:hover {\n",
              "    background-color: var(--disabled-bg-color);\n",
              "    fill: var(--disabled-fill-color);\n",
              "    box-shadow: none;\n",
              "  }\n",
              "\n",
              "  .colab-df-spinner {\n",
              "    border: 2px solid var(--fill-color);\n",
              "    border-color: transparent;\n",
              "    border-bottom-color: var(--fill-color);\n",
              "    animation:\n",
              "      spin 1s steps(1) infinite;\n",
              "  }\n",
              "\n",
              "  @keyframes spin {\n",
              "    0% {\n",
              "      border-color: transparent;\n",
              "      border-bottom-color: var(--fill-color);\n",
              "      border-left-color: var(--fill-color);\n",
              "    }\n",
              "    20% {\n",
              "      border-color: transparent;\n",
              "      border-left-color: var(--fill-color);\n",
              "      border-top-color: var(--fill-color);\n",
              "    }\n",
              "    30% {\n",
              "      border-color: transparent;\n",
              "      border-left-color: var(--fill-color);\n",
              "      border-top-color: var(--fill-color);\n",
              "      border-right-color: var(--fill-color);\n",
              "    }\n",
              "    40% {\n",
              "      border-color: transparent;\n",
              "      border-right-color: var(--fill-color);\n",
              "      border-top-color: var(--fill-color);\n",
              "    }\n",
              "    60% {\n",
              "      border-color: transparent;\n",
              "      border-right-color: var(--fill-color);\n",
              "    }\n",
              "    80% {\n",
              "      border-color: transparent;\n",
              "      border-right-color: var(--fill-color);\n",
              "      border-bottom-color: var(--fill-color);\n",
              "    }\n",
              "    90% {\n",
              "      border-color: transparent;\n",
              "      border-bottom-color: var(--fill-color);\n",
              "    }\n",
              "  }\n",
              "</style>\n",
              "\n",
              "  <script>\n",
              "    async function quickchart(key) {\n",
              "      const quickchartButtonEl =\n",
              "        document.querySelector('#' + key + ' button');\n",
              "      quickchartButtonEl.disabled = true;  // To prevent multiple clicks.\n",
              "      quickchartButtonEl.classList.add('colab-df-spinner');\n",
              "      try {\n",
              "        const charts = await google.colab.kernel.invokeFunction(\n",
              "            'suggestCharts', [key], {});\n",
              "      } catch (error) {\n",
              "        console.error('Error during call to suggestCharts:', error);\n",
              "      }\n",
              "      quickchartButtonEl.classList.remove('colab-df-spinner');\n",
              "      quickchartButtonEl.classList.add('colab-df-quickchart-complete');\n",
              "    }\n",
              "    (() => {\n",
              "      let quickchartButtonEl =\n",
              "        document.querySelector('#df-1dd21510-9718-482e-a8bb-07b43ef3ba60 button');\n",
              "      quickchartButtonEl.style.display =\n",
              "        google.colab.kernel.accessAllowed ? 'block' : 'none';\n",
              "    })();\n",
              "  </script>\n",
              "</div>\n",
              "\n",
              "    </div>\n",
              "  </div>\n"
            ],
            "application/vnd.google.colaboratory.intrinsic+json": {
              "type": "dataframe",
              "variable_name": "tcg_data",
              "summary": "{\n  \"name\": \"tcg_data\",\n  \"rows\": 1680,\n  \"fields\": [\n    {\n      \"column\": \"pack_type\",\n      \"properties\": {\n        \"dtype\": \"category\",\n        \"num_unique_values\": 2,\n        \"samples\": [\n          \"destiny\",\n          \"tetramon\"\n        ],\n        \"semantic_type\": \"\",\n        \"description\": \"\"\n      }\n    },\n    {\n      \"column\": \"card_name\",\n      \"properties\": {\n        \"dtype\": \"category\",\n        \"num_unique_values\": 123,\n        \"samples\": [\n          \"minstar\",\n          \"amneshark\"\n        ],\n        \"semantic_type\": \"\",\n        \"description\": \"\"\n      }\n    },\n    {\n      \"column\": \"pack_rarity\",\n      \"properties\": {\n        \"dtype\": \"category\",\n        \"num_unique_values\": 4,\n        \"samples\": [\n          \"rare\",\n          \"legendary\"\n        ],\n        \"semantic_type\": \"\",\n        \"description\": \"\"\n      }\n    },\n    {\n      \"column\": \"card_number\",\n      \"properties\": {\n        \"dtype\": \"number\",\n        \"std\": 417.76906588277507,\n        \"min\": 1.0,\n        \"max\": 1449.0,\n        \"num_unique_values\": 439,\n        \"samples\": [\n          277.0,\n          1023.0\n        ],\n        \"semantic_type\": \"\",\n        \"description\": \"\"\n      }\n    },\n    {\n      \"column\": \"card_value\",\n      \"properties\": {\n        \"dtype\": \"number\",\n        \"std\": 108.09348258483001,\n        \"min\": 0.03,\n        \"max\": 4073.65,\n        \"num_unique_values\": 389,\n        \"samples\": [\n          1.14,\n          1.03\n        ],\n        \"semantic_type\": \"\",\n        \"description\": \"\"\n      }\n    },\n    {\n      \"column\": \"pack_number\",\n      \"properties\": {\n        \"dtype\": \"number\",\n        \"std\": 8,\n        \"min\": 1,\n        \"max\": 30,\n        \"num_unique_values\": 30,\n        \"samples\": [\n          28,\n          16\n        ],\n        \"semantic_type\": \"\",\n        \"description\": \"\"\n      }\n    },\n    {\n      \"column\": \"foil\",\n      \"properties\": {\n        \"dtype\": \"category\",\n        \"num_unique_values\": 2,\n        \"samples\": [\n          \"yes\",\n          \"no\"\n        ],\n        \"semantic_type\": \"\",\n        \"description\": \"\"\n      }\n    },\n    {\n      \"column\": \"gold_edition\",\n      \"properties\": {\n        \"dtype\": \"category\",\n        \"num_unique_values\": 2,\n        \"samples\": [\n          \"yes\",\n          \"no\"\n        ],\n        \"semantic_type\": \"\",\n        \"description\": \"\"\n      }\n    },\n    {\n      \"column\": \"silver_edition\",\n      \"properties\": {\n        \"dtype\": \"category\",\n        \"num_unique_values\": 2,\n        \"samples\": [\n          \"yes\",\n          \"no\"\n        ],\n        \"semantic_type\": \"\",\n        \"description\": \"\"\n      }\n    },\n    {\n      \"column\": \"first_edition\",\n      \"properties\": {\n        \"dtype\": \"category\",\n        \"num_unique_values\": 2,\n        \"samples\": [\n          \"yes\",\n          \"no\"\n        ],\n        \"semantic_type\": \"\",\n        \"description\": \"\"\n      }\n    },\n    {\n      \"column\": \"ex_cards\",\n      \"properties\": {\n        \"dtype\": \"category\",\n        \"num_unique_values\": 2,\n        \"samples\": [\n          \"yes\",\n          \"no\"\n        ],\n        \"semantic_type\": \"\",\n        \"description\": \"\"\n      }\n    },\n    {\n      \"column\": \"full_art\",\n      \"properties\": {\n        \"dtype\": \"category\",\n        \"num_unique_values\": 2,\n        \"samples\": [\n          \"yes\",\n          \"no\"\n        ],\n        \"semantic_type\": \"\",\n        \"description\": \"\"\n      }\n    },\n    {\n      \"column\": \"normal\",\n      \"properties\": {\n        \"dtype\": \"category\",\n        \"num_unique_values\": 2,\n        \"samples\": [\n          \"no\",\n          \"yes\"\n        ],\n        \"semantic_type\": \"\",\n        \"description\": \"\"\n      }\n    }\n  ]\n}"
            }
          },
          "metadata": {},
          "execution_count": 17
        }
      ]
    },
    {
      "cell_type": "markdown",
      "source": [
        "As we can see, the concatenation has been successful. Now, we should save the new dataset to a Feather file."
      ],
      "metadata": {
        "id": "QCGJcmdoXpY2"
      }
    },
    {
      "cell_type": "code",
      "source": [
        "tcg_data.to_feather(\"TCG_Card_Shop_Data.feather\")"
      ],
      "metadata": {
        "id": "hFic1d7HYA4f"
      },
      "execution_count": 19,
      "outputs": []
    },
    {
      "cell_type": "markdown",
      "source": [
        "Now that we have saved it, the data is ready to be analyzed."
      ],
      "metadata": {
        "id": "0xIUDIq0YSEc"
      }
    }
  ]
}